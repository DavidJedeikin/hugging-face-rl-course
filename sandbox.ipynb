{
  "cells": [
    {
      "cell_type": "markdown",
      "metadata": {
        "id": "view-in-github",
        "colab_type": "text"
      },
      "source": [
        "<a href=\"https://colab.research.google.com/github/DavidJedeikin/hugging-face-rl-course/blob/main/sandbox.ipynb\" target=\"_parent\"><img src=\"https://colab.research.google.com/assets/colab-badge.svg\" alt=\"Open In Colab\"/></a>"
      ]
    },
    {
      "cell_type": "code",
      "source": [
        "!sudo apt-get update && apt-get install build-essential python3-dev swig\n",
        "!pip install gymnasium[box2d] gymnasium huggingface-sb3 stable_baselines3[extra]"
      ],
      "metadata": {
        "id": "QIDm45ebcVzE"
      },
      "execution_count": null,
      "outputs": []
    },
    {
      "cell_type": "code",
      "source": [
        "import gymnasium as gym\n",
        "import matplotlib.pyplot as plt\n",
        "from huggingface_sb3 import load_from_hub\n",
        "from stable_baselines3 import PPO\n",
        "from stable_baselines3.common.vec_env import DummyVecEnv\n",
        "from stable_baselines3.common.evaluation import evaluate_policy\n",
        "from stable_baselines3.common.monitor import Monitor\n",
        "\n",
        "repo_id = \"VinayHajare/ppo-LunarLander-v2\"\n",
        "filename = \"ppo-LunarLander-v2.zip\"\n",
        "eval_env = gym.make(\"LunarLander-v3\", render_mode=\"rgb_array\") # Create env that renders as an image\n",
        "\n",
        "checkpoint = load_from_hub(repo_id, filename)\n",
        "model = PPO.load(checkpoint)\n",
        "\n",
        "#Enjoy trained agent\n",
        "observation, info = eval_env.reset()\n",
        "for i in range(100): # Show the env running for 100 steps\n",
        "    action, _states = model.predict(observation, deterministic=True)\n",
        "    observation, rewards, terminated, truncated, info = eval_env.step(action)\n",
        "    img = eval_env.render() # This will output a NumPy array representing the image of the current state of the environment.\n",
        "    plt.imshow(img) # Display the image using matplotlib or any other library of"
      ],
      "metadata": {
        "id": "vPEYiDrFa6ln"
      },
      "execution_count": null,
      "outputs": []
    }
  ],
  "metadata": {
    "accelerator": "GPU",
    "colab": {
      "collapsed_sections": [
        "QAN7B0_HCVZC",
        "BqPKw3jt_pG5"
      ],
      "private_outputs": true,
      "provenance": [],
      "include_colab_link": true
    },
    "gpuClass": "standard",
    "kernelspec": {
      "display_name": "Python 3.9.7",
      "language": "python",
      "name": "python3"
    },
    "language_info": {
      "name": "python",
      "version": "3.9.7"
    },
    "vscode": {
      "interpreter": {
        "hash": "ed7f8024e43d3b8f5ca3c5e1a8151ab4d136b3ecee1e3fd59e0766ccc55e1b10"
      }
    }
  },
  "nbformat": 4,
  "nbformat_minor": 0
}